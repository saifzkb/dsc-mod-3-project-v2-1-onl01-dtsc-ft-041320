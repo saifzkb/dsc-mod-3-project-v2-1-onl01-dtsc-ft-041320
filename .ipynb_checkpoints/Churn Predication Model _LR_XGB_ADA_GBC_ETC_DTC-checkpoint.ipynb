{
 "cells": [
  {
   "cell_type": "markdown",
   "metadata": {
    "_uuid": "88df5d995d2692d09927a531f2f954cfbe0610fa"
   },
   "source": [
    "# Approaching (Almost) Any Churn Predication Problem for Classification on Kaggle\n",
    "\n",
    "![](https://i0.wp.com/www.everythingai.co.in/wp-content/uploads/2018/01/Churn.png?resize=900%2C450&ssl=1)\n",
    "\n",
    "In this post, I'll talk about approaching churn predication problems on Kaggle. As an example, we will use the data from this competition. I have create a very basic all classification model first and then improve algorithm parameter.\n",
    "\n",
    "## Cover all Classification Algorithm\n",
    "* LogisticRegression\n",
    "* XGBClassifier\n",
    "* MultinomialNB\n",
    "* AdaBoostClassifier\n",
    "* KNeighborsClassifier\n",
    "* GradientBoostingClassifier\n",
    "* ExtraTreesClassifier\n",
    "* DecisionTreeClassifier"
   ]
  },
  {
   "cell_type": "markdown",
   "metadata": {
    "_uuid": "c52a66a3888eba7077b5c874a67cf76756bb537b"
   },
   "source": [
    "## Road Map \n",
    "* Library for Preprocessing and Cleaning\n",
    "* Load all Classification Packages and Accuracy Packages\n",
    "* Load Data Set\n",
    "* Analyse the Data \n",
    "* LabelEncoder\n",
    "* Split the Data Train and Validation\n",
    "* Train Model and Check Validation Data Accuracy"
   ]
  },
  {
   "cell_type": "markdown",
   "metadata": {
    "_uuid": "9859ad0e1eff683d2fc4e74c17eef114bbbe1ea3"
   },
   "source": [
    "### Library for Preprocessing and Cleaning"
   ]
  },
  {
   "cell_type": "code",
   "execution_count": null,
   "metadata": {
    "_cell_guid": "b1076dfc-b9ad-4769-8c92-a6c4dae69d19",
    "_kg_hide-input": false,
    "_uuid": "8f2839f25d086af736a60e9eeb907d3b93b6e0e5"
   },
   "outputs": [],
   "source": [
    "# This Python 3 environment comes with many helpful analytics libraries installed\n",
    "# It is defined by the kaggle/python docker image: https://github.com/kaggle/docker-python\n",
    "# For example, here's several helpful packages to load in \n",
    "\n",
    "import numpy as np # linear algebra\n",
    "import pandas as pd # data processing, CSV file I/O (e.g. pd.read_csv)\n",
    "# Input data files are available in the \"../input/\" directory.\n",
    "# For example, running this (by clicking run or pressing Shift+Enter) will list the files in the input directory\n",
    "\n",
    "import os\n",
    "print(os.listdir(\"../input\"))\n",
    "\n",
    "from sklearn import preprocessing\n",
    "from sklearn.preprocessing import LabelEncoder\n",
    "\n",
    "from sklearn.model_selection import train_test_split\n",
    "\n",
    "import matplotlib\n",
    "import matplotlib.pyplot as plt\n",
    "from IPython.display import display, HTML\n",
    "import seaborn as sns\n",
    "\n",
    "# Any results you write to the current directory are saved as output."
   ]
  },
  {
   "cell_type": "markdown",
   "metadata": {
    "_uuid": "c2133e010fde45053ec83311c5feae9c810983f9"
   },
   "source": [
    "### Load all Classification Packages and Accuracy Packages"
   ]
  },
  {
   "cell_type": "code",
   "execution_count": null,
   "metadata": {
    "_kg_hide-input": false,
    "_uuid": "6e0cb44de4a72474b01289d45d3372d4a3a37881"
   },
   "outputs": [],
   "source": [
    "import xgboost as xgb\n",
    "from sklearn.linear_model import LogisticRegression\n",
    "from sklearn.neighbors import KNeighborsClassifier,RadiusNeighborsClassifier\n",
    "from sklearn.naive_bayes import MultinomialNB\n",
    "from sklearn.svm import LinearSVC,SVC\n",
    "from sklearn.ensemble import RandomForestClassifier, AdaBoostClassifier, GradientBoostingClassifier,ExtraTreesClassifier\n",
    "from sklearn.tree import DecisionTreeClassifier\n",
    "\n",
    "from sklearn.metrics import accuracy_score,roc_auc_score"
   ]
  },
  {
   "cell_type": "markdown",
   "metadata": {
    "_uuid": "25c31df9ce97126e3ae78eb8e82c1da395023e2a"
   },
   "source": [
    "### The Importance of Predicting Customer Churn\n",
    "\n",
    "The ability to predict that a particular customer is at a high risk of churning, while there is still time to do something about it, represents a huge additional potential revenue source for every online business. Besides the direct loss of revenue that results from a customer abandoning the business, the costs of initially acquiring that customer may not have already been covered by the customer’s spending to date. (In other words, acquiring that customer may have actually been a losing investment.) Furthermore, it is always more difficult and expensive to acquire a new customer than it is to retain a current paying customer.\n",
    "\n",
    "Reference : [Link](https://www.optimove.com/learning-center/customer-churn-prediction-and-prevention)"
   ]
  },
  {
   "cell_type": "markdown",
   "metadata": {
    "_uuid": "26429b705be59499bc51b7df308840bc590420da"
   },
   "source": [
    "### Load Data set"
   ]
  },
  {
   "cell_type": "code",
   "execution_count": null,
   "metadata": {
    "_cell_guid": "79c7e3d0-c299-4dcb-8224-4455121ee9b0",
    "_uuid": "d629ff2d2480ee46fbb7e2d37f6b5fab8052498a"
   },
   "outputs": [],
   "source": [
    "df = pd.read_csv('../input/bigml_59c28831336c6604c800002a.csv')\n",
    "df.head(5)"
   ]
  },
  {
   "cell_type": "markdown",
   "metadata": {
    "_uuid": "0e8cdd8f125bfa0bf848b2ab9b101961e736dafb"
   },
   "source": [
    "###  Remove Column, Shape, Null Value and Data Type :---- Over_View"
   ]
  },
  {
   "cell_type": "code",
   "execution_count": null,
   "metadata": {
    "_uuid": "abb26edcbe7c7065fb450ee541d14386acdeab68"
   },
   "outputs": [],
   "source": [
    "df = df.drop(['phone number'],axis=1)\n",
    "df.shape"
   ]
  },
  {
   "cell_type": "code",
   "execution_count": null,
   "metadata": {
    "_uuid": "57f517c75ad8594c08a8eb016efb85d33736dfb9"
   },
   "outputs": [],
   "source": [
    "df.isnull().sum()"
   ]
  },
  {
   "cell_type": "code",
   "execution_count": null,
   "metadata": {
    "_uuid": "ee2a2940728c68172911aed35000b27be6ceb75c"
   },
   "outputs": [],
   "source": [
    "print(\"------  Data Types  ----- \\n\",df.dtypes)\n",
    "print(\"------  Data type Count  ----- \\n\",df.dtypes.value_counts())"
   ]
  },
  {
   "cell_type": "markdown",
   "metadata": {
    "_uuid": "caadf0819b4cd9c5c278d8853bc232a406a961b7"
   },
   "source": [
    "### Label Encoding for Catergorical Variable "
   ]
  },
  {
   "cell_type": "code",
   "execution_count": null,
   "metadata": {
    "_uuid": "38b28ec5eb4bd06a7de38a1dbe3f222f0d434f88"
   },
   "outputs": [],
   "source": [
    "cate = [key for key in dict(df.dtypes) if dict(df.dtypes)[key] in ['bool', 'object']]"
   ]
  },
  {
   "cell_type": "code",
   "execution_count": null,
   "metadata": {
    "_uuid": "fce9d733b589432fbab4733c40c3bad426258f0b"
   },
   "outputs": [],
   "source": [
    "le = preprocessing.LabelEncoder()\n",
    "for i in cate:\n",
    "    le.fit(df[i])\n",
    "    df[i] = le.transform(df[i])\n",
    "    "
   ]
  },
  {
   "cell_type": "markdown",
   "metadata": {
    "_uuid": "b0716bf82f62db83f677a16fd212e4f99dc29d74"
   },
   "source": [
    "### Correlation Plot"
   ]
  },
  {
   "cell_type": "code",
   "execution_count": null,
   "metadata": {
    "_uuid": "f295ff00cb269d4f88175a54ed9d0dd0a039986e"
   },
   "outputs": [],
   "source": [
    "corrmat = df.corr(method='pearson')\n",
    "f, ax = plt.subplots(figsize=(8, 8))\n",
    "\n",
    "# Draw the heatmap using seaborn\n",
    "sns.heatmap(corrmat, vmax=1., square=True)\n",
    "plt.title(\"Important variables correlation map\", fontsize=15)\n",
    "plt.show()"
   ]
  },
  {
   "cell_type": "code",
   "execution_count": null,
   "metadata": {
    "_uuid": "536c3cc2b175402232eacd904ae3357275c350f3"
   },
   "outputs": [],
   "source": [
    "y = df['churn']\n",
    "df = df = df.drop(['churn'],axis=1)"
   ]
  },
  {
   "cell_type": "markdown",
   "metadata": {
    "_uuid": "9d7985b6d59f582cbaf669ff2935140ab78e1a5a"
   },
   "source": [
    "### Feature Important by XGB\n",
    "\n",
    "using XGBClassifier i have achive great accurcy so i have take insight of which one feature  "
   ]
  },
  {
   "cell_type": "code",
   "execution_count": null,
   "metadata": {
    "_uuid": "c8dee0d0554df4b911b76c9a4873f80bbbb56bdf"
   },
   "outputs": [],
   "source": [
    "clf = xgb.XGBClassifier(max_depth=7, n_estimators=200, colsample_bytree=0.8, \n",
    "                        subsample=0.8, nthread=10, learning_rate=0.1)\n",
    "clf.fit(df, y)\n",
    "# plot the important features #\n",
    "fig, ax = plt.subplots(figsize=(12,18))\n",
    "xgb.plot_importance(clf, max_num_features=50, height=0.8, ax=ax)\n",
    "plt.show()"
   ]
  },
  {
   "cell_type": "markdown",
   "metadata": {
    "_uuid": "67c498b5fe5e197ff7c39c662a3be974dd2f2cf9"
   },
   "source": [
    "### Split Train and Validation Dataset"
   ]
  },
  {
   "cell_type": "code",
   "execution_count": null,
   "metadata": {
    "_uuid": "02bc50adc3b0c222a9649269837af05f74d621b8"
   },
   "outputs": [],
   "source": [
    "xtrain, xvalid, ytrain, yvalid = train_test_split(df, y, \n",
    "                                                  stratify=y, \n",
    "                                                  random_state=42, \n",
    "                                                  test_size=0.1, shuffle=True)"
   ]
  },
  {
   "cell_type": "code",
   "execution_count": null,
   "metadata": {
    "_uuid": "db73d5c527bc12a3c334740f326313a1cf440a2e"
   },
   "outputs": [],
   "source": [
    "print(xtrain.shape, xvalid.shape, ytrain.shape, yvalid.shape)"
   ]
  },
  {
   "cell_type": "markdown",
   "metadata": {
    "_uuid": "5c0f5c6b65f4594d8817be8596cc6b4ec833f1e2"
   },
   "source": [
    "### Cover all Classification Algorithm\n",
    "* LogisticRegression\n",
    "* XGBClassifier\n",
    "* MultinomialNB\n",
    "* AdaBoostClassifier\n",
    "* KNeighborsClassifier\n",
    "* GradientBoostingClassifier\n",
    "* ExtraTreesClassifier\n",
    "* DecisionTreeClassifier "
   ]
  },
  {
   "cell_type": "markdown",
   "metadata": {
    "_uuid": "f1ab2cbbef2ef73dcc84be6593719fa05c3fb1be"
   },
   "source": [
    "### LogisticRegression"
   ]
  },
  {
   "cell_type": "code",
   "execution_count": null,
   "metadata": {
    "_uuid": "6a809977b10913e7d57e52b25aaecfdd690480d2"
   },
   "outputs": [],
   "source": [
    "clf = LogisticRegression(C=1.0)\n",
    "clf.fit(xtrain, ytrain)\n",
    "predictions = clf.predict(xvalid)\n",
    "print(\"accuracy_score\",accuracy_score(yvalid, predictions))\n",
    "print(\"auc\",roc_auc_score(yvalid, predictions))\n",
    "lr = [clf.__class__,accuracy_score(yvalid, predictions),roc_auc_score(yvalid, predictions)]"
   ]
  },
  {
   "cell_type": "code",
   "execution_count": null,
   "metadata": {
    "_uuid": "3d897cb6ed21b1de7e16082b161b8a7028b078b7"
   },
   "outputs": [],
   "source": [
    "algo = pd.DataFrame([lr])"
   ]
  },
  {
   "cell_type": "markdown",
   "metadata": {
    "_uuid": "43c8ef3f52d16f276f9815f3a62e4fa27df71330"
   },
   "source": [
    "### XGBClassifier"
   ]
  },
  {
   "cell_type": "code",
   "execution_count": null,
   "metadata": {
    "_uuid": "eff9e428740dc77d0a2d25bcaa74d08f4a220200"
   },
   "outputs": [],
   "source": [
    "clf = xgb.XGBClassifier(max_depth=7, n_estimators=200, colsample_bytree=0.8, \n",
    "                        subsample=0.8, nthread=10, learning_rate=0.1)\n",
    "clf.fit(xtrain, ytrain)\n",
    "predictions = clf.predict(xvalid)\n",
    "print(\"accuracy_score\",accuracy_score(yvalid, predictions))\n",
    "print(\"auc\",roc_auc_score(yvalid, predictions))\n",
    "xg = [clf.__class__,accuracy_score(yvalid, predictions),roc_auc_score(yvalid, predictions)]"
   ]
  },
  {
   "cell_type": "code",
   "execution_count": null,
   "metadata": {
    "_uuid": "a7e7051928400fce4392c8de67cbd595fa1a16d5"
   },
   "outputs": [],
   "source": [
    "algo = algo.append([xg])"
   ]
  },
  {
   "cell_type": "markdown",
   "metadata": {
    "_uuid": "80d444756688fb67bdf5b494dd3dacd761f63506"
   },
   "source": [
    "### MultinomialNB"
   ]
  },
  {
   "cell_type": "code",
   "execution_count": null,
   "metadata": {
    "_uuid": "9de2e6858576041be94322ddaaf689585c2c37df"
   },
   "outputs": [],
   "source": [
    "clf = MultinomialNB()\n",
    "clf.fit(xtrain, ytrain)\n",
    "predictions = clf.predict(xvalid)\n",
    "print(\"accuracy_score\",accuracy_score(yvalid, predictions))\n",
    "print(\"auc\",roc_auc_score(yvalid, predictions))\n",
    "mnb = [clf.__class__,accuracy_score(yvalid, predictions),roc_auc_score(yvalid, predictions)]"
   ]
  },
  {
   "cell_type": "code",
   "execution_count": null,
   "metadata": {
    "_uuid": "5379fdef0deb8204ad9ba0cb29ae12d065655804"
   },
   "outputs": [],
   "source": [
    "algo = algo.append([mnb])"
   ]
  },
  {
   "cell_type": "markdown",
   "metadata": {
    "_uuid": "bb6a51ca33e2a3439412cd9f2427c4c254092b18"
   },
   "source": [
    "### AdaBoostClassifier"
   ]
  },
  {
   "cell_type": "code",
   "execution_count": null,
   "metadata": {
    "_uuid": "65df25f673e51d27e34aa5bfc69b0fdc1244e506"
   },
   "outputs": [],
   "source": [
    "clf = AdaBoostClassifier()\n",
    "clf.fit(xtrain, ytrain)\n",
    "predictions = clf.predict(xvalid)\n",
    "print(\"accuracy_score\",accuracy_score(yvalid, predictions))\n",
    "print(\"auc\",roc_auc_score(yvalid, predictions))\n",
    "abc = [clf.__class__,accuracy_score(yvalid, predictions),roc_auc_score(yvalid, predictions)]"
   ]
  },
  {
   "cell_type": "code",
   "execution_count": null,
   "metadata": {
    "_uuid": "4902005ead613788b79820ac6abd0b58984413ed"
   },
   "outputs": [],
   "source": [
    "algo = algo.append([abc])"
   ]
  },
  {
   "cell_type": "markdown",
   "metadata": {
    "_uuid": "8b636b98300d6c983c5b0f8cfaf28ddc4af1fec0"
   },
   "source": [
    "### KNeighborsClassifier"
   ]
  },
  {
   "cell_type": "code",
   "execution_count": null,
   "metadata": {
    "_uuid": "ea754762f1759eb78904f031b23c0575762f58f1"
   },
   "outputs": [],
   "source": [
    "clf = KNeighborsClassifier()\n",
    "clf.fit(xtrain, ytrain)\n",
    "predictions = clf.predict(xvalid)\n",
    "print(\"accuracy_score\",accuracy_score(yvalid, predictions))\n",
    "print(\"auc\",roc_auc_score(yvalid, predictions))\n",
    "knc = [clf.__class__,accuracy_score(yvalid, predictions),roc_auc_score(yvalid, predictions)]"
   ]
  },
  {
   "cell_type": "code",
   "execution_count": null,
   "metadata": {
    "_uuid": "3f1adf7ce20c88dca94662aaf417d4e57fdf2ba2"
   },
   "outputs": [],
   "source": [
    "algo = algo.append([knc])"
   ]
  },
  {
   "cell_type": "markdown",
   "metadata": {
    "_uuid": "5381fb0154cbad9679d6f49c9dcb02814b377fbb"
   },
   "source": [
    "### GradientBoostingClassifier"
   ]
  },
  {
   "cell_type": "code",
   "execution_count": null,
   "metadata": {
    "_uuid": "808ddf05acc1ed68b99e9225f25061273dfbb8b6"
   },
   "outputs": [],
   "source": [
    "clf = GradientBoostingClassifier()\n",
    "clf.fit(xtrain, ytrain)\n",
    "predictions = clf.predict(xvalid)\n",
    "print(\"accuracy_score\",accuracy_score(yvalid, predictions))\n",
    "print(\"auc\",roc_auc_score(yvalid, predictions))\n",
    "gbc = [clf.__class__,accuracy_score(yvalid, predictions),roc_auc_score(yvalid, predictions)]"
   ]
  },
  {
   "cell_type": "code",
   "execution_count": null,
   "metadata": {
    "_uuid": "10973bebfade0bd5b0f8b21f8d53945007634836"
   },
   "outputs": [],
   "source": [
    "algo = algo.append([gbc])"
   ]
  },
  {
   "cell_type": "markdown",
   "metadata": {
    "_uuid": "774d641d607e47b81e81c1d14020e13b222ac44e"
   },
   "source": [
    "### ExtraTreesClassifier"
   ]
  },
  {
   "cell_type": "code",
   "execution_count": null,
   "metadata": {
    "_uuid": "15c71d0be512c177362ddb982ec93db925c4730a"
   },
   "outputs": [],
   "source": [
    "clf = ExtraTreesClassifier()\n",
    "clf.fit(xtrain, ytrain)\n",
    "predictions = clf.predict(xvalid)\n",
    "print(\"accuracy_score\",accuracy_score(yvalid, predictions))\n",
    "print(\"auc\",roc_auc_score(yvalid, predictions))\n",
    "etc = [clf.__class__,accuracy_score(yvalid, predictions),roc_auc_score(yvalid, predictions)]"
   ]
  },
  {
   "cell_type": "code",
   "execution_count": null,
   "metadata": {
    "_uuid": "e0a47add5fc78208cf8550bd31f9f02fa01660aa"
   },
   "outputs": [],
   "source": [
    "algo = algo.append([etc])"
   ]
  },
  {
   "cell_type": "markdown",
   "metadata": {
    "_uuid": "734445c5fd039dfc3caab34fd3d14bcb190a07ae"
   },
   "source": [
    "### DecisionTreeClassifier"
   ]
  },
  {
   "cell_type": "code",
   "execution_count": null,
   "metadata": {
    "_uuid": "10e96894d141e16187426233d8f136da90c2c629"
   },
   "outputs": [],
   "source": [
    "clf = DecisionTreeClassifier()\n",
    "clf.fit(xtrain, ytrain)\n",
    "predictions = clf.predict(xvalid)\n",
    "print(\"accuracy_score\",accuracy_score(yvalid, predictions))\n",
    "print(\"auc\",roc_auc_score(yvalid, predictions))\n",
    "dtc = [clf.__class__,accuracy_score(yvalid, predictions),roc_auc_score(yvalid, predictions)]"
   ]
  },
  {
   "cell_type": "code",
   "execution_count": null,
   "metadata": {
    "_uuid": "71dfd0cba714cf13108981ff76737fa1f1c7738e"
   },
   "outputs": [],
   "source": [
    "algo = algo.append([dtc])"
   ]
  },
  {
   "cell_type": "code",
   "execution_count": null,
   "metadata": {
    "_uuid": "b8a5833e191259a5e455c5d74f82e6d377ab6d50"
   },
   "outputs": [],
   "source": [
    "algo.sort_values([1], ascending=[False])"
   ]
  }
 ],
 "metadata": {
  "kernelspec": {
   "display_name": "Python 3",
   "language": "python",
   "name": "python3"
  },
  "language_info": {
   "codemirror_mode": {
    "name": "ipython",
    "version": 3
   },
   "file_extension": ".py",
   "mimetype": "text/x-python",
   "name": "python",
   "nbconvert_exporter": "python",
   "pygments_lexer": "ipython3",
   "version": "3.6.9"
  }
 },
 "nbformat": 4,
 "nbformat_minor": 1
}
